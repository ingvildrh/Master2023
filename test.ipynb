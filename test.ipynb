{
 "cells": [
  {
   "cell_type": "code",
   "execution_count": 10,
   "metadata": {},
   "outputs": [],
   "source": [
    "import torch\n",
    "from torch.utils.data import Dataset\n",
    "from torchvision import datasets\n",
    "from torchvision.transforms import ToTensor\n",
    "import matplotlib.pyplot as plt\n",
    "from PIL import Image\n",
    "from torchsummary import summary\n",
    "from torchvision.datasets import ImageFolder\n",
    "from torchvision.transforms import Compose, Resize, ToTensor, Grayscale\n",
    "\n",
    "import os\n",
    "import torch.optim as optim\n",
    "import torch\n",
    "from torch import nn\n",
    "from torch.utils.data import DataLoader\n",
    "from torchvision import datasets, transforms\n",
    "from networks import *\n",
    "import torchvision.models as models\n",
    "from torch.utils.data import DataLoader, random_split\n",
    "from PIL import Image"
   ]
  },
  {
   "cell_type": "markdown",
   "metadata": {},
   "source": [
    "# Set hyperparams"
   ]
  },
  {
   "cell_type": "code",
   "execution_count": 33,
   "metadata": {},
   "outputs": [],
   "source": [
    "epochs = 10\n",
    "lr = 0.001\n",
    "batch_size = 32"
   ]
  },
  {
   "attachments": {},
   "cell_type": "markdown",
   "metadata": {},
   "source": [
    "# Fix data"
   ]
  },
  {
   "cell_type": "code",
   "execution_count": 106,
   "metadata": {},
   "outputs": [
    {
     "name": "stdout",
     "output_type": "stream",
     "text": [
      "3598\n",
      "torch.Size([3, 32, 32])\n",
      "Label:  0 Black Sea Sprat\n"
     ]
    },
    {
     "data": {
      "image/png": "[encoded data removed]",
      "text/plain": [
       "<Figure size 640x480 with 1 Axes>"
      ]
     },
     "metadata": {},
     "output_type": "display_data"
    }
   ],
   "source": [
    "classes = {\n",
    "  0: \"Black Sea Sprat\",\n",
    "  1: \"Hourse Mackerel\",\n",
    "  2: \"Red Sea Bream\",\n",
    "  3: \"Shrimp\"\n",
    "}\n",
    "\n",
    "def load_data():\n",
    "    transform = Compose([ Resize((32, 32)), ToTensor(), transforms.Normalize([0.,], [1.])]) #Grayscale(1), \n",
    "    dataset = ImageFolder('C:/Users/ingvilrh/OneDrive - NTNU/Masteroppgave23/full_fishdata', transform=transform)\n",
    "    return dataset\n",
    "\n",
    "def split_dataset(dataset):\n",
    "    train_size = int(0.7 * len(dataset))\n",
    "    val_size = test_size = (len(dataset) - train_size) // 2\n",
    "    train_dataset, val_dataset, test_dataset = random_split(dataset, [train_size, val_size, test_size])\n",
    "    return train_dataset, val_dataset, test_dataset\n",
    "\n",
    "def check_classes(dataset):\n",
    "    print(\"Your classes are: \", dataset.classes)\n",
    "\n",
    "def get_datasize(dataset):\n",
    "    image, label = dataset[0]\n",
    "    print(image.size())\n",
    "\n",
    "def show_image(dataset, idx):\n",
    "    image, label = dataset[idx]\n",
    "    plt.imshow(image.permute(1,2,0), cmap='gray')\n",
    "    print(\"Label: \", label, classes[label])\n",
    "\n",
    "data = load_data()\n",
    "print(len(data))\n",
    "get_datasize(data)\n",
    "show_image(data, 800)\n",
    "\n",
    "train_dataset, val_dataset, test_dataset = split_dataset(data)\n"
   ]
  },
  {
   "attachments": {},
   "cell_type": "markdown",
   "metadata": {},
   "source": [
    "# Make dataloaders"
   ]
  },
  {
   "cell_type": "code",
   "execution_count": 163,
   "metadata": {},
   "outputs": [
    {
     "name": "stdout",
     "output_type": "stream",
     "text": [
      "Your dataset has a length of: 3598\n",
      "Your training set has a length of: 2518\n",
      "Your test set has a length of: 540\n",
      "Your val set has a length of: 540\n"
     ]
    }
   ],
   "source": [
    "def make_dataloaders(train_dataset, val_dataset, test_dataset):\n",
    "    train_dataloader = DataLoader(train_dataset, batch_size)\n",
    "    val_dataloader = DataLoader(train_dataset, batch_size)\n",
    "    test_dataloader = DataLoader(test_dataset, batch_size, shuffle=True)\n",
    "    return train_dataloader, val_dataloader, test_dataloader\n",
    "\n",
    "train_data, val_data, test_data = split_dataset(data)\n",
    "train_loader, val_loader, test_loader = make_dataloaders(train_data, val_data, test_data)\n",
    "print(\"Your dataset has a length of:\", len(data))\n",
    "print(\"Your training set has a length of:\", len(train_data))\n",
    "print(\"Your test set has a length of:\", len(test_data))\n",
    "print(\"Your val set has a length of:\", len(val_data))\n",
    "\n",
    "\n"
   ]
  },
  {
   "attachments": {},
   "cell_type": "markdown",
   "metadata": {},
   "source": [
    "# Create NN"
   ]
  },
  {
   "cell_type": "code",
   "execution_count": 164,
   "metadata": {},
   "outputs": [],
   "source": [
    "from networks import * \n",
    "from torch import optim\n",
    "model = Net0()\n",
    "criterion = nn.CrossEntropyLoss()\n",
    "optimizer = optim.SGD(model.parameters(), lr=0.001, momentum=0.9)  "
   ]
  },
  {
   "cell_type": "markdown",
   "metadata": {},
   "source": [
    "# Define functions for training"
   ]
  },
  {
   "cell_type": "code",
   "execution_count": 138,
   "metadata": {},
   "outputs": [],
   "source": [
    "#iterate over the training dataset and try to converge to optimal parameters\n",
    "def train_loop(dataloader, model, loss_fn, optimizer, epoch_loss, loss_vals):\n",
    "    size = len(dataloader.dataset)\n",
    "    for batch, (X, y) in enumerate(dataloader):\n",
    "        # Compute prediction and loss\n",
    "        pred = model(X)\n",
    "        loss = loss_fn(pred, y)\n",
    "        epoch_loss.append(loss.item())\n",
    "\n",
    "        # Backpropagation\n",
    "        optimizer.zero_grad()\n",
    "        loss.backward()\n",
    "\n",
    "        \n",
    "\n",
    "        optimizer.step()\n",
    "\n",
    "        if batch % 100 == 0:\n",
    "            loss, current = loss.item(), (batch + 1) * len(X)\n",
    "            print(f\"loss: {loss:>7f}  [{current:>5d}/{size:>5d}]\")\n",
    "    \n",
    "    loss_vals.append(sum(epoch_loss)/len(epoch_loss))\n",
    "    return loss_vals\n",
    "#iterate over the test dataset to check if model performance is improving\n",
    "def test_loop(dataloader, model, loss_fn):\n",
    "    size = len(dataloader.dataset)\n",
    "    num_batches = len(dataloader)\n",
    "    test_loss, correct = 0, 0\n",
    "\n",
    "    with torch.no_grad():\n",
    "        for X, y in dataloader:\n",
    "            pred = model(X)\n",
    "            test_loss += loss_fn(pred, y).item()\n",
    "            correct += (pred.argmax(1) == y).type(torch.float).sum().item()\n",
    "\n",
    "    test_loss /= num_batches\n",
    "    correct /= size\n",
    "    print(f\"Test Error: \\n Accuracy: {(100*correct):>0.1f}%, Avg loss: {test_loss:>8f} \\n\")"
   ]
  },
  {
   "cell_type": "markdown",
   "metadata": {},
   "source": [
    "# Train the model"
   ]
  },
  {
   "cell_type": "code",
   "execution_count": 167,
   "metadata": {},
   "outputs": [
    {
     "name": "stdout",
     "output_type": "stream",
     "text": [
      "Epoch 1\n",
      "-------------------------------\n",
      "loss: 2.323701  [   32/ 2518]\n",
      "Test Error: \n",
      " Accuracy: 27.6%, Avg loss: 2.281138 \n",
      "\n",
      "Epoch 2\n",
      "-------------------------------\n",
      "loss: 2.299795  [   32/ 2518]\n",
      "Test Error: \n",
      " Accuracy: 27.6%, Avg loss: 2.261128 \n",
      "\n",
      "Epoch 3\n",
      "-------------------------------\n",
      "loss: 2.278888  [   32/ 2518]\n",
      "Test Error: \n",
      " Accuracy: 27.6%, Avg loss: 2.242556 \n",
      "\n",
      "Epoch 4\n",
      "-------------------------------\n",
      "loss: 2.259963  [   32/ 2518]\n",
      "Test Error: \n",
      " Accuracy: 27.6%, Avg loss: 2.224552 \n",
      "\n",
      "Epoch 5\n",
      "-------------------------------\n",
      "loss: 2.241806  [   32/ 2518]\n",
      "Test Error: \n",
      " Accuracy: 28.0%, Avg loss: 2.206507 \n",
      "\n",
      "Epoch 6\n",
      "-------------------------------\n",
      "loss: 2.223550  [   32/ 2518]\n",
      "Test Error: \n",
      " Accuracy: 28.5%, Avg loss: 2.187771 \n",
      "\n",
      "Epoch 7\n",
      "-------------------------------\n",
      "loss: 2.204728  [   32/ 2518]\n",
      "Test Error: \n",
      " Accuracy: 28.9%, Avg loss: 2.168301 \n",
      "\n",
      "Epoch 8\n",
      "-------------------------------\n",
      "loss: 2.184943  [   32/ 2518]\n",
      "Test Error: \n",
      " Accuracy: 28.1%, Avg loss: 2.146735 \n",
      "\n",
      "Epoch 9\n",
      "-------------------------------\n",
      "loss: 2.163639  [   32/ 2518]\n",
      "Test Error: \n",
      " Accuracy: 22.8%, Avg loss: 2.121863 \n",
      "\n",
      "Epoch 10\n",
      "-------------------------------\n",
      "loss: 2.139166  [   32/ 2518]\n",
      "Test Error: \n",
      " Accuracy: 20.7%, Avg loss: 2.090580 \n",
      "\n",
      "Done!\n"
     ]
    }
   ],
   "source": [
    "loss_fn = nn.CrossEntropyLoss()\n",
    "optimizer = torch.optim.SGD(model.parameters(), lr=0.001)\n",
    "\n",
    "loss_vals = []\n",
    "for t in range(epochs):\n",
    "    epoch_loss = []\n",
    "    print(f\"Epoch {t+1}\\n-------------------------------\")\n",
    "    loss_vals = train_loop(train_loader, model, loss_fn, optimizer, epoch_loss, loss_vals)\n",
    "    test_loop(test_loader, model, loss_fn)\n",
    "print(\"Done!\")"
   ]
  },
  {
   "cell_type": "markdown",
   "metadata": {},
   "source": [
    "# Evaluate the model"
   ]
  },
  {
   "cell_type": "code",
   "execution_count": 168,
   "metadata": {},
   "outputs": [
    {
     "name": "stdout",
     "output_type": "stream",
     "text": [
      "Accuracy of the network on the 10000 test images: 20 %\n"
     ]
    }
   ],
   "source": [
    "import torchvision\n",
    "\n",
    "def evaluate_accuracy(test_loader, model):\n",
    "    correct = 0\n",
    "    total = 0\n",
    "\n",
    "    dataloader = test_loader\n",
    "    with torch.no_grad():\n",
    "            for data in dataloader:\n",
    "                images, labels = data\n",
    "                # calculate outputs by running images through the network\n",
    "                outputs = model(images)\n",
    "                # the class with the highest energy is what we choose as prediction\n",
    "                _, predicted = torch.max(outputs.data, 1)\n",
    "                total += labels.size(0)\n",
    "                correct += (predicted == labels).sum().item()\n",
    "\n",
    "    print(f'Accuracy of the network on the 10000 test images: {100 * correct // total} %')\n",
    "\n",
    "evaluate_accuracy(test_loader, model)\n",
    "            "
   ]
  },
  {
   "cell_type": "code",
   "execution_count": null,
   "metadata": {},
   "outputs": [],
   "source": [
    "#show_image(test_data, 0)\n",
    "#image, label = test_data[0]\n",
    "\n",
    "def test_single_image(test_loader, model, idx):\n",
    "    with torch.no_grad():\n",
    "        data1 = next(iter(test_loader))  # get the first data item from the dataloader\n",
    "        data2 = next(iter(test_loader)) #theese batches produces same output, check it out!!!!! Det har noe med shuffle å gjøre!\n",
    "\n",
    "        images, labels = data1\n",
    "\n",
    "        #Get a image for testing, choosing the first one\n",
    "        first_image = images[idx]\n",
    "        first_label = labels[idx]\n",
    "\n",
    "        #Show first image\n",
    "        plt.imshow(first_image.permute(1,2,0), cmap='gray')\n",
    "\n",
    "        #Printing the real class\n",
    "        print(\"The image truly belongs to class: \", first_label.item(), classes[first_label.item()])\n",
    "\n",
    "        #Get predictions as a list for all the images in the dataloader\n",
    "        outputs = model(images)\n",
    "\n",
    "    _, predicted = torch.max(outputs.data, 1)\n",
    "\n",
    "    #Print the predicted classes for the batch we predicted\n",
    "    print(predicted)\n",
    "    print(labels)\n",
    "\n",
    "    #Print the predicted class for the image we showed\n",
    "    print(\"The image was predicted to belong to class: \", predicted[idx].item(), classes[predicted[idx].item()])\n",
    "    \n",
    "test_single_image(test_loader, model, 30)\n"
   ]
  },
  {
   "cell_type": "code",
   "execution_count": 170,
   "metadata": {},
   "outputs": [
    {
     "name": "stdout",
     "output_type": "stream",
     "text": [
      "Predictd classes\n",
      "tensor([0, 0, 0, 0, 0, 0, 0, 0, 0, 0, 0, 0, 0, 0, 0, 0, 0, 0, 0, 0, 0, 0, 0, 0,\n",
      "        0, 0, 0, 0, 0, 0, 0, 0])\n",
      "Coreect labels: \n",
      "tensor([1, 3, 3, 3, 3, 2, 0, 3, 2, 2, 2, 0, 0, 1, 3, 2, 0, 2, 0, 1, 3, 3, 2, 2,\n",
      "        1, 1, 3, 0, 2, 0, 3, 1])\n",
      "Black Sea Sprat got 7 correct predictions\n",
      "Hourse Mackerel got 0 correct predictions\n",
      "Red Sea Bream got 0 correct predictions\n",
      "Shrimp got 0 correct predictions\n"
     ]
    }
   ],
   "source": [
    "def classes_hit(test_loader, model, num_classes):\n",
    "    with torch.no_grad():\n",
    "        data1 = next(iter(test_loader))  # get the first data item from the dataloader\n",
    "        data2 = next(iter(test_loader))\n",
    "        data3 = next(iter(test_loader))\n",
    "        data4 = next(iter(test_loader))\n",
    "\n",
    "        images, labels = data3\n",
    "\n",
    "        #Get predictions as a list for all the images in the dataloader\n",
    "        outputs = model(images)\n",
    "\n",
    "        _, predicted = torch.max(outputs.data, 1)\n",
    "\n",
    "    #Print the predicted classes for the batch we predicted\n",
    "    print(\"Predictd classes\")\n",
    "    print(predicted)\n",
    "    print(\"Coreect labels: \")\n",
    "    print(labels)\n",
    "\n",
    "    correct = {\n",
    "        0 : 0,\n",
    "        1 : 0,\n",
    "        2 : 0,\n",
    "        3 : 0\n",
    "    }\n",
    "\n",
    "    miss = {\n",
    "        0 : 0,\n",
    "        1 : 0,\n",
    "        2 : 0,\n",
    "        3 : 0\n",
    "    }\n",
    "\n",
    "    for i in range(len(predicted)):\n",
    "        if predicted[i] == labels[i]:\n",
    "            correct[predicted[i].item()] += 1\n",
    "        else:\n",
    "            miss[predicted[i].item()] += 1\n",
    "    \n",
    "    #Print it pretty\n",
    "    for c in range(num_classes):\n",
    "        print(classes[c], \"got\", correct[c], \"correct predictions\")\n",
    "\n",
    "classes_hit(test_loader, model, 4)"
   ]
  },
  {
   "cell_type": "markdown",
   "metadata": {},
   "source": [
    "# Plot loss"
   ]
  },
  {
   "cell_type": "code",
   "execution_count": 176,
   "metadata": {},
   "outputs": [
    {
     "data": {
      "text/plain": [
       "Text(0, 0.5, 'loss')"
      ]
     },
     "execution_count": 176,
     "metadata": {},
     "output_type": "execute_result"
    },
    {
     "data": {
      "image/png": "[encoded data removed]",
      "text/plain": [
       "<Figure size 640x480 with 1 Axes>"
      ]
     },
     "metadata": {},
     "output_type": "display_data"
    }
   ],
   "source": [
    "plt.plot([1,2,3,4,5,6,7,8,9,10], loss_vals)\n",
    "plt.title('Average loss')\n",
    "plt.xlabel('epoch')\n",
    "plt.ylabel('loss')"
   ]
  },
  {
   "cell_type": "code",
   "execution_count": null,
   "metadata": {},
   "outputs": [],
   "source": []
  }
 ],
 "metadata": {
  "kernelspec": {
   "display_name": "torchvenv",
   "language": "python",
   "name": "python3"
  },
  "language_info": {
   "codemirror_mode": {
    "name": "ipython",
    "version": 3
   },
   "file_extension": ".py",
   "mimetype": "text/x-python",
   "name": "python",
   "nbconvert_exporter": "python",
   "pygments_lexer": "ipython3",
   "version": "3.10.10"
  },
  "orig_nbformat": 4,
  "vscode": {
   "interpreter": {
    "hash": "c0626e0e996b6d41e5b04bdcd7a10e2304d59d858560fe3a68dee343f89dd41a"
   }
  }
 },
 "nbformat": 4,
 "nbformat_minor": 2
}
